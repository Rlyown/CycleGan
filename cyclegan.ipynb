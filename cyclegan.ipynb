{
 "cells": [
  {
   "cell_type": "markdown",
   "metadata": {},
   "source": [
    "# Import Lib"
   ]
  },
  {
   "cell_type": "code",
   "execution_count": 1,
   "metadata": {},
   "outputs": [
    {
     "ename": "ModuleNotFoundError",
     "evalue": "No module named 'kaggle_datasets'",
     "output_type": "error",
     "traceback": [
      "\u001b[0;31m---------------------------------------------------------------------------\u001b[0m",
      "\u001b[0;31mModuleNotFoundError\u001b[0m                       Traceback (most recent call last)",
      "\u001b[0;32m<ipython-input-1-b144af7296b0>\u001b[0m in \u001b[0;36m<module>\u001b[0;34m\u001b[0m\n\u001b[1;32m      5\u001b[0m \u001b[0;32mimport\u001b[0m \u001b[0mmatplotlib\u001b[0m\u001b[0;34m.\u001b[0m\u001b[0mpyplot\u001b[0m \u001b[0;32mas\u001b[0m \u001b[0mplt\u001b[0m\u001b[0;34m\u001b[0m\u001b[0;34m\u001b[0m\u001b[0m\n\u001b[1;32m      6\u001b[0m \u001b[0;32mimport\u001b[0m \u001b[0mnumpy\u001b[0m \u001b[0;32mas\u001b[0m \u001b[0mnp\u001b[0m\u001b[0;34m\u001b[0m\u001b[0;34m\u001b[0m\u001b[0m\n\u001b[0;32m----> 7\u001b[0;31m \u001b[0;32mfrom\u001b[0m \u001b[0mkaggle_datasets\u001b[0m \u001b[0;32mimport\u001b[0m \u001b[0mKaggleDatasets\u001b[0m\u001b[0;34m\u001b[0m\u001b[0;34m\u001b[0m\u001b[0m\n\u001b[0m",
      "\u001b[0;31mModuleNotFoundError\u001b[0m: No module named 'kaggle_datasets'"
     ]
    }
   ],
   "source": [
    "import tensorflow as tf\n",
    "from tensorflow import keras\n",
    "from tensorflow.keras import layers\n",
    "# import tensorflow_addons as tfa\n",
    "import matplotlib.pyplot as plt\n",
    "import numpy as np\n",
    "from kaggle_datasets import KaggleDatasets"
   ]
  },
  {
   "cell_type": "markdown",
   "metadata": {},
   "source": [
    "# Setup TPU"
   ]
  },
  {
   "cell_type": "code",
   "execution_count": 9,
   "metadata": {},
   "outputs": [
    {
     "name": "stdout",
     "output_type": "stream",
     "text": [
      "Number of replicas: 1\n",
      "2.2.0\n"
     ]
    }
   ],
   "source": [
    "try:\n",
    "    tpu = tf.distribute.cluster_resolver.TPUClusterResolver()\n",
    "    print('Device:', tpu.master())\n",
    "    tf.config.experimental_connect_to_cluster(tpu)\n",
    "    tf.tpu.experimental.initialize_tpu_system(tpu)\n",
    "    strategy = tf.distribute.experimental.TPUStrategy(tpu)\n",
    "except:\n",
    "    strategy = tf.distribute.get_strategy()\n",
    "print('Number of replicas:', strategy.num_replicas_in_sync)\n",
    "\n",
    "AUTO = tf.data.experimental.AUTOTUNE\n",
    "print(tf.__version__)"
   ]
  },
  {
   "cell_type": "markdown",
   "metadata": {},
   "source": [
    "# Load Data"
   ]
  },
  {
   "cell_type": "code",
   "execution_count": 10,
   "metadata": {},
   "outputs": [],
   "source": [
    "IMAGE_SIZE = [256, 256]\n",
    "def decode_image(image):\n",
    "    image = tf.image.decode_jpeg(image, channels=3)\n",
    "    image = (tf.cast(image, tf.float32) / 127.5) - 1\n",
    "    image = tf.reshape(image, [*IMAGE_SIZE, 3])\n",
    "    return image\n",
    "\n",
    "def read_tfrecord(example):\n",
    "    tfrecord_format = {\n",
    "        \"image_name\": tf.io.FixedLenFeature([], tf.string),\n",
    "        \"image\": tf.io.FixedLenFeature([], tf.string),\n",
    "        \"target\": tf.io.FixedLenFeature([], tf.string)\n",
    "    }\n",
    "    example = tf.io.parse_single_example(example, tfrecord_format)\n",
    "    image = decode_image(example['image'])\n",
    "    return image\n",
    "\n",
    "def load_dataset(filenames):\n",
    "    dataset = tf.data.TFRecordDataset(filenames)\n",
    "    # print(dataset)\n",
    "    dataset = dataset.map(read_tfrecord, num_parallel_calls=tf.data.experimental.AUTOTUNE)\n",
    "    return dataset\n",
    "\n",
    "\n",
    "def get_dataset(filenames, augment=None, repeat=True, shuffle=True, batch_size=1):\n",
    "    dataset = load_dataset(filenames)\n",
    "\n",
    "    if augment:\n",
    "        dataset = dataset.map(augment, num_parallel_calls=tf.data.experimental.AUTOTUNE)\n",
    "    if repeat:\n",
    "        dataset = dataset.repeat(count=1)\n",
    "\n",
    "    dataset = dataset.concatenate(load_dataset(filenames))\n",
    "\n",
    "    if shuffle:\n",
    "        dataset = dataset.shuffle(1000)\n",
    "\n",
    "    dataset = dataset.batch(batch_size)\n",
    "    dataset = dataset.cache()\n",
    "    dataset = dataset.prefetch(tf.data.experimental.AUTOTUNE)\n",
    "\n",
    "    return dataset\n",
    "\n",
    "def data_augment_2(image):\n",
    "    p_rotate = tf.random.uniform([], 0, 1.0, dtype=tf.float32)\n",
    "    p_spatial = tf.random.uniform([], 0, 1.0, dtype=tf.float32)\n",
    "    p_crop = tf.random.uniform([], 0, 1.0, dtype=tf.float32)\n",
    "\n",
    "    # Apply jitter\n",
    "    if p_crop > .5:\n",
    "        image = tf.image.resize(image, [286, 286])\n",
    "        image = tf.image.random_crop(image, size=[256, 256, 3])\n",
    "        if p_crop > .9:\n",
    "            image = tf.image.resize(image, [300, 300])\n",
    "            image = tf.image.random_crop(image, size=[256, 256, 3])\n",
    "\n",
    "    # Random rotation\n",
    "    if p_rotate > .9:\n",
    "        image = tf.image.rot90(image, k=3)  # rotate 270º\n",
    "    elif p_rotate > .7:\n",
    "        image = tf.image.rot90(image, k=2)  # rotate 180º\n",
    "    elif p_rotate > .5:\n",
    "        image = tf.image.rot90(image, k=1)  # rotate 90º\n",
    "\n",
    "    # Random mirroring\n",
    "    if p_spatial > .6:\n",
    "        image = tf.image.random_flip_left_right(image)\n",
    "        image = tf.image.random_flip_up_down(image)\n",
    "        if p_spatial > .9:\n",
    "            image = tf.image.transpose(image)\n",
    "\n",
    "    return image"
   ]
  },
  {
   "cell_type": "code",
   "execution_count": 11,
   "metadata": {},
   "outputs": [],
   "source": [
    "GCS_PATH = KaggleDatasets().get_gcs_path('gan-getting-started')\n",
    "MONET_FILENAMES = tf.io.gfile.glob(str(GCS_PATH + '/monet_tfrec/*.tfrec'))\n",
    "PHOTO_FILENAMES = tf.io.gfile.glob(str(GCS_PATH + '/photo_tfrec/*.tfrec'))\n",
    "monet_ds = get_dataset(MONET_FILENAMES, augment=data_augment_2, batch_size=1)\n",
    "photo_ds = get_dataset(PHOTO_FILENAMES, augment=data_augment_2, batch_size=1)"
   ]
  },
  {
   "cell_type": "markdown",
   "metadata": {},
   "source": [
    "# Loss"
   ]
  },
  {
   "cell_type": "code",
   "execution_count": 12,
   "metadata": {},
   "outputs": [],
   "source": [
    "with strategy.scope():\n",
    "    loss_object = keras.losses.BinaryCrossentropy(from_logits=True, reduction=tf.keras.losses.Reduction.NONE)\n",
    "\n",
    "    # Define loss functions\n",
    "    def discriminator_loss(disc_real_output, disc_generated_output):\n",
    "        # compare the real image with a matrix of 1. (All Ok)\n",
    "        real_loss = loss_object(tf.ones_like(disc_real_output), disc_real_output)\n",
    "\n",
    "        # compare the fake image with a matrix of 0 (All Fake)\n",
    "        generated_loss = loss_object(tf.zeros_like(disc_generated_output), disc_generated_output)\n",
    "\n",
    "        total_disc_loss = (real_loss + generated_loss) / 2\n",
    "\n",
    "        return total_disc_loss\n",
    "\n",
    "\n",
    "    def generator_adversarial_loss(generated):\n",
    "        return loss_object(tf.ones_like(generated), generated)\n",
    "\n",
    "\n",
    "    def generator_calc_cycle_loss(real_image, cycled_image, param_lambda):\n",
    "        loss1 = tf.reduce_mean(tf.abs(real_image - cycled_image))\n",
    "        return param_lambda * loss1\n",
    "\n",
    "\n",
    "    def generator_identity_loss(real_image, same_image, param_lambda):\n",
    "        loss = tf.reduce_mean(tf.abs(real_image - same_image))\n",
    "        return param_lambda * 0.5 * loss"
   ]
  },
  {
   "cell_type": "markdown",
   "metadata": {},
   "source": [
    "# optimizer of each model"
   ]
  },
  {
   "cell_type": "code",
   "execution_count": 13,
   "metadata": {},
   "outputs": [],
   "source": [
    "with strategy.scope():\n",
    "    generator_monet_optimizer = tf.keras.optimizers.Adam(2e-4, beta_1=0.5)\n",
    "    generator_photo_optimizer = tf.keras.optimizers.Adam(2e-4, beta_1=0.5)\n",
    "    discriminator_monet_optimizer = tf.keras.optimizers.Adam(2e-4, beta_1=0.5)\n",
    "    discriminator_photo_optimizer = tf.keras.optimizers.Adam(2e-4, beta_1=0.5)"
   ]
  },
  {
   "cell_type": "markdown",
   "metadata": {},
   "source": [
    "# Build Model"
   ]
  },
  {
   "cell_type": "code",
   "execution_count": null,
   "metadata": {},
   "outputs": [],
   "source": [
    "class CycleGan(keras.Model):\n",
    "    def __init__(\n",
    "            self,\n",
    "            generator_monet,\n",
    "            generator_photo,\n",
    "            discriminator_monet,\n",
    "            discriminator_photo,\n",
    "            lambda_cycle=10,\n",
    "            lambda_identity=10\n",
    "    ):\n",
    "        super(CycleGan, self).__init__()\n",
    "        self.generator_monet = generator_monet\n",
    "        self.generator_photo = generator_photo\n",
    "        self.discriminator_monet = discriminator_monet\n",
    "        self.discriminator_photo = discriminator_photo\n",
    "        self.lambda_cycle = lambda_cycle\n",
    "        self.lambda_identity = lambda_identity\n",
    "\n",
    "    def compile(\n",
    "            self,\n",
    "            generator_monet_optimizer,\n",
    "            generator_photo_optimizer,\n",
    "            discriminator_monet_optimizer,\n",
    "            discriminator_photo_optimizer,\n",
    "            discriminator_loss,\n",
    "            generator_adversarial_loss,\n",
    "            generator_calc_cycle_loss,\n",
    "            generator_identity_loss\n",
    "    ):\n",
    "        super(CycleGan, self).compile()\n",
    "        self.generator_monet_optimizer = generator_monet_optimizer\n",
    "        self.generator_photo_optimizer = generator_photo_optimizer\n",
    "        self.discriminator_monet_optimizer = discriminator_monet_optimizer\n",
    "        self.discriminator_photo_optimizer = discriminator_photo_optimizer\n",
    "        self.discriminator_loss = discriminator_loss\n",
    "        self.generator_adversarial_loss = generator_adversarial_loss\n",
    "        self.generator_calc_cycle_loss = generator_calc_cycle_loss\n",
    "        self.generator_identity_loss = generator_identity_loss\n",
    "\n",
    "    def train_step(self, batch_data):\n",
    "        monet, photo = batch_data\n",
    "\n",
    "        with tf.GradientTape(persistent=True) as tape:\n",
    "            # photo to monet back to photo\n",
    "            gen_output_monet_fake = self.generator_monet(photo, training=False)\n",
    "            gen_output_photo_cycle = self.generator_photo(gen_output_monet_fake, training=False)\n",
    "\n",
    "            # monet to photo back to monet\n",
    "            gen_output_photo_fake = self.generator_photo(monet, training=False)\n",
    "            gen_output_monet_cycle = self.generator_monet(gen_output_photo_fake, training=False)\n",
    "\n",
    "            # generating itself\n",
    "            gen_output_monet_same = self.generator_monet(monet, training=False)\n",
    "            gen_output_photo_same = self.generator_photo(photo, training=False)\n",
    "\n",
    "            # discriminator used to check, inputing real images\n",
    "            disc_out_monet_real = self.discriminator_monet(monet, training=False)\n",
    "            disc_out_photo_real = self.discriminator_photo(photo, training=False)\n",
    "\n",
    "            # discriminator used to check, inputing fake images\n",
    "            disc_out_monet_fake = self.discriminator_monet(gen_output_monet_fake, training=False)\n",
    "            disc_out_photo_fake = self.discriminator_photo(gen_output_photo_fake, training=False)\n",
    "\n",
    "\n",
    "\n",
    "            # evaluates generator loss\n",
    "            gen_monet_adversarial_loss = self.generator_adversarial_loss(disc_out_monet_fake)\n",
    "            gen_photo_adversarial_loss = self.generator_adversarial_loss(disc_out_photo_fake)\n",
    "\n",
    "            total_cycle_loss = (self.generator_calc_cycle_loss(monet, gen_output_monet_cycle, self.lambda_cycle)\n",
    "                                + self.generator_calc_cycle_loss(photo, gen_output_photo_cycle, self.lambda_cycle))\n",
    "\n",
    "            gen_monet_identity_loss = self.generator_identity_loss(monet, gen_output_monet_same, self.lambda_identity)\n",
    "            gen_photo_identity_loss = self.generator_identity_loss(photo, gen_output_photo_same, self.lambda_identity)\n",
    "\n",
    "            # Total generator loss = adversarial loss + cycle loss + identity loss\n",
    "            total_gen_monet_loss = (gen_monet_adversarial_loss + total_cycle_loss + gen_monet_identity_loss)\n",
    "            total_gen_photo_loss = (gen_photo_adversarial_loss + total_cycle_loss + gen_photo_identity_loss)\n",
    "\n",
    "            # evaluates discriminator loss\n",
    "            disc_monet_loss = self.discriminator_loss(disc_out_monet_real, disc_out_monet_fake)\n",
    "            disc_photo_loss = self.discriminator_loss(disc_out_photo_real, disc_out_photo_fake)\n",
    "\n",
    "\n",
    "        # Calculate the gradients for generator and discriminator\n",
    "        gen_monet_gradients = tape.gradient(total_gen_monet_loss,\n",
    "                                            self.generator_monet.trainable_variables)\n",
    "        gen_photo_gradients = tape.gradient(total_gen_photo_loss,\n",
    "                                            self.generator_photo.trainable_variables)\n",
    "\n",
    "        disc_monet_gradients = tape.gradient(disc_monet_loss,\n",
    "                                             self.discriminator_monet.trainable_variables)\n",
    "        disc_photo_gradients = tape.gradient(disc_photo_loss,\n",
    "                                             self.discriminator_photo.trainable_variables)\n",
    "\n",
    "        # Apply the gradients to the optimizer\n",
    "        self.generator_monet_optimizer.apply_gradients(zip(gen_monet_gradients,\n",
    "                                                           self.generator_monet.trainable_variables))\n",
    "        self.generator_photo_optimizer.apply_gradients(zip(gen_photo_gradients,\n",
    "                                                           self.generator_photo.trainable_variables))\n",
    "\n",
    "        self.discriminator_monet_optimizer.apply_gradients(zip(disc_monet_gradients,\n",
    "                                                               self.discriminator_monet.trainable_variables))\n",
    "        self.discriminator_photo_optimizer.apply_gradients(zip(disc_photo_gradients,\n",
    "                                                               self.discriminator_photo.trainable_variables))\n",
    "\n",
    "        return {\n",
    "            \"total_gen_monet_loss\": total_gen_monet_loss,\n",
    "            \"total_gen_photo_loss\": total_gen_photo_loss,\n",
    "            \"disc_monet_loss\": disc_monet_loss,\n",
    "            \"disc_photo_loss\": disc_photo_loss\n",
    "        }"
   ]
  },
  {
   "cell_type": "markdown",
   "metadata": {},
   "source": [
    "# Down/Up sample"
   ]
  },
  {
   "cell_type": "code",
   "execution_count": null,
   "metadata": {},
   "outputs": [],
   "source": [
    "#Build the generator preparation\n",
    "with strategy.scope():\n",
    "    def downsample(filters, size, apply_instancenorm=True):\n",
    "        initializer = tf.random_normal_initializer(0., 0.02)\n",
    "\n",
    "        result = keras.Sequential()\n",
    "        result.add(layers.Conv2D(filters, size, strides=2, padding='same',\n",
    "                                 kernel_initializer=initializer, use_bias=not apply_instancenorm ))# when applying Normalization you already have the bias implicit\n",
    "        result.add(layers.LeakyReLU())\n",
    "        return result\n",
    "\n",
    "    def upsample(filters, size, apply_dropout=False):\n",
    "        initializer = tf.random_normal_initializer(0., 0.02)\n",
    "\n",
    "        result = keras.Sequential()\n",
    "        result.add(layers.Conv2DTranspose(filters, size, strides=2,\n",
    "                                          padding='same',\n",
    "                                          kernel_initializer=initializer,\n",
    "                                          use_bias=False))\n",
    "        if apply_dropout:\n",
    "            result.add(layers.Dropout(0.5))\n",
    "\n",
    "        result.add(layers.ReLU())\n",
    "        return result"
   ]
  },
  {
   "cell_type": "markdown",
   "metadata": {},
   "source": [
    "# GeneratorAndDiscriminator"
   ]
  },
  {
   "cell_type": "code",
   "execution_count": null,
   "metadata": {},
   "outputs": [],
   "source": [
    "# build our generator\n",
    "\n",
    "def Generator():\n",
    "    inputs = layers.Input(shape=[256, 256, 3])\n",
    "\n",
    "    # bs = batch size\n",
    "    down_stack = [\n",
    "        downsample(64, 4, apply_instancenorm=False), # (bs, 128, 128, 64)\n",
    "        downsample(128, 4), # (bs, 64, 64, 128)\n",
    "        downsample(256, 4), # (bs, 32, 32, 256)\n",
    "        downsample(512, 4), # (bs, 16, 16, 512)\n",
    "        downsample(512, 4), # (bs, 8, 8, 512)\n",
    "        downsample(512, 4), # (bs, 4, 4, 512)\n",
    "        downsample(512, 4), # (bs, 2, 2, 512)\n",
    "        downsample(512, 4), # (bs, 1, 1, 512)\n",
    "    ]\n",
    "    up_stack = [\n",
    "        upsample(512, 4, apply_dropout=True), # (bs, 2, 2, 1024)\n",
    "        upsample(512, 4, apply_dropout=True), # (bs, 4, 4, 1024)\n",
    "        upsample(512, 4, apply_dropout=True), # (bs, 8, 8, 1024)\n",
    "        upsample(512, 4), # (bs, 16, 16, 1024)\n",
    "        upsample(256, 4), # (bs, 32, 32, 512)\n",
    "        upsample(128, 4), # (bs, 64, 64, 256)\n",
    "        upsample(64, 4), # (bs, 128, 128, 128)\n",
    "    ]\n",
    "\n",
    "    initializer = tf.random_normal_initializer(0., 0.02)\n",
    "    last = layers.Conv2DTranspose(filters=3,\n",
    "                                  kernel_size = 4,\n",
    "                                  strides=2,\n",
    "                                  padding='same',\n",
    "                                  kernel_initializer=initializer,\n",
    "                                  activation='tanh') # (bs, 256, 256, 3)\n",
    "    x = inputs\n",
    "\n",
    "    # Downsampling through the model\n",
    "    skips = []\n",
    "    for down in down_stack:\n",
    "        x = down(x)\n",
    "        skips.append(x)\n",
    "\n",
    "    skips = reversed(skips[:-1])\n",
    "\n",
    "    # Upsampling and establishing the skip connections\n",
    "    for up, skip in zip(up_stack, skips):\n",
    "        x = up(x)\n",
    "        x = layers.Concatenate()([x, skip])\n",
    "    x = last(x)\n",
    "\n",
    "    return keras.Model(inputs=inputs, outputs=x)\n",
    "\n"
   ]
  },
  {
   "cell_type": "code",
   "execution_count": null,
   "metadata": {},
   "outputs": [],
   "source": [
    "# Build the discriminator\n",
    "def Discriminator():\n",
    "    initializer = tf.random_normal_initializer(0., 0.02)\n",
    "\n",
    "    inp = layers.Input(shape=[256, 256, 3], name='input_image')\n",
    "\n",
    "    down1 = downsample(64, 4, False)(inp) # (bs, 128, 128, 64)\n",
    "    down2 = downsample(128, 4)(down1) # (bs, 64, 64, 128)\n",
    "    down3 = downsample(256, 4)(down2) # (bs, 32, 32, 256)\n",
    "\n",
    "    zero_pad1 = layers.ZeroPadding2D()(down3) # (bs, 34, 34, 256)\n",
    "    conv = layers.Conv2D(512, 4, strides=1,\n",
    "                         kernel_initializer=initializer,\n",
    "                         use_bias=False)(zero_pad1) # (bs, 31, 31, 512)\n",
    "\n",
    "    leaky_relu = layers.LeakyReLU()(conv)\n",
    "\n",
    "    zero_pad2 = layers.ZeroPadding2D()(leaky_relu)  # (bs, 33, 33, 512)\n",
    "\n",
    "    last = layers.Conv2D(1,\n",
    "                         kernel_size = 4,\n",
    "                         strides=1,\n",
    "                         kernel_initializer=initializer)(zero_pad2)  # (bs, 30, 30, 1)\n",
    "\n",
    "    return tf.keras.Model(inputs=inp, outputs=last)"
   ]
  },
  {
   "cell_type": "markdown",
   "metadata": {},
   "source": [
    "# Train"
   ]
  },
  {
   "cell_type": "code",
   "execution_count": null,
   "metadata": {},
   "outputs": [],
   "source": [
    "with strategy.scope():\n",
    "    #Create Generator and Discriminator\n",
    "    generator_monet = Generator() # transforms photos to Monet-esque paintings\n",
    "    generator_photo = Generator() # transforms Monet paintings to be more like photos\n",
    "    discriminator_monet = Discriminator() # differentiates real Monet paintings and generated Monet paintings\n",
    "    discriminator_photo = Discriminator() # differentiates real photos and generated photos"
   ]
  },
  {
   "cell_type": "code",
   "execution_count": null,
   "metadata": {},
   "outputs": [],
   "source": [
    "with strategy.scope():\n",
    "    cycle_gan_model = CycleGan(\n",
    "        generator_monet, generator_photo, discriminator_monet, discriminator_photo\n",
    "    )\n",
    "\n",
    "    cycle_gan_model.compile(\n",
    "            generator_monet_optimizer = generator_monet_optimizer,\n",
    "            generator_photo_optimizer = generator_photo_optimizer,\n",
    "            discriminator_monet_optimizer = discriminator_monet_optimizer,\n",
    "            discriminator_photo_optimizer = discriminator_photo_optimizer,\n",
    "            discriminator_loss = discriminator_loss,\n",
    "            generator_adversarial_loss = generator_adversarial_loss,\n",
    "            generator_calc_cycle_loss = generator_calc_cycle_loss,\n",
    "            generator_identity_loss = generator_identity_loss\n",
    "        )"
   ]
  },
  {
   "cell_type": "code",
   "execution_count": null,
   "metadata": {},
   "outputs": [],
   "source": [
    "cycle_gan_model.fit(\n",
    "    tf.data.Dataset.zip((monet_ds, photo_ds)),\n",
    "    epochs=1\n",
    ")"
   ]
  },
  {
   "cell_type": "markdown",
   "metadata": {},
   "source": [
    "# Plot"
   ]
  },
  {
   "cell_type": "code",
   "execution_count": null,
   "metadata": {},
   "outputs": [],
   "source": [
    "# Plot\n",
    "_, ax = plt.subplots(5, 2, figsize=(12, 12))\n",
    "for i, img in enumerate(photo_ds.take(5)):\n",
    "    prediction = generator_monet(img, training=False)[0].numpy()\n",
    "    prediction = (prediction * 127.5 + 127.5).astype(np.uint8)\n",
    "    img = (img[0] * 127.5 + 127.5).numpy().astype(np.uint8)\n",
    "\n",
    "    ax[i, 0].imshow(img)\n",
    "    ax[i, 1].imshow(prediction)\n",
    "    ax[i, 0].set_title(\"Input Photo\")\n",
    "    ax[i, 1].set_title(\"Monet-esque\")\n",
    "    ax[i, 0].axis(\"off\")\n",
    "    ax[i, 1].axis(\"off\")\n",
    "plt.show()"
   ]
  },
  {
   "cell_type": "markdown",
   "metadata": {},
   "source": [
    "# SAVE"
   ]
  },
  {
   "cell_type": "code",
   "execution_count": null,
   "metadata": {},
   "outputs": [],
   "source": [
    "# import PIL\n",
    "# ! mkdir ../images\n",
    "# i = 1\n",
    "# for img in photo_ds:\n",
    "#     prediction = monet_generator(img, training=False)[0].numpy()\n",
    "#     prediction = (prediction * 127.5 + 127.5).astype(np.uint8)\n",
    "#     im = PIL.Image.fromarray(prediction)\n",
    "#     im.save(\"../images/\" + str(i) + \".jpg\")\n",
    "#     i += 1\n",
    "    \n",
    "# import shutil\n",
    "# shutil.make_archive(\"/kaggle/working/images\", 'zip', \"/kaggle/images\")"
   ]
  }
 ],
 "metadata": {
  "kernelspec": {
   "display_name": "MachineLearning",
   "language": "python",
   "name": "machinelearning"
  },
  "language_info": {
   "codemirror_mode": {
    "name": "ipython",
    "version": 3
   },
   "file_extension": ".py",
   "mimetype": "text/x-python",
   "name": "python",
   "nbconvert_exporter": "python",
   "pygments_lexer": "ipython3",
   "version": "3.8.6"
  }
 },
 "nbformat": 4,
 "nbformat_minor": 4
}
